{
 "cells": [
  {
   "cell_type": "markdown",
   "metadata": {},
   "source": [
    "# Calculadora"
   ]
  },
  {
   "cell_type": "markdown",
   "metadata": {},
   "source": [
    "Purpose of this project is the creation of a simple calculator using python code."
   ]
  },
  {
   "cell_type": "code",
   "execution_count": 55,
   "metadata": {},
   "outputs": [],
   "source": [
    "def adicao(x,y):\n",
    "    return x+y\n",
    "\n",
    "def subtracao(x,y):\n",
    "    return x-y\n",
    "\n",
    "def multiplicacao(x,y):\n",
    "    return x*y\n",
    "\n",
    "def divisao(x,y):\n",
    "    return x/y\n",
    "\n",
    "def escolhadaoperacao():\n",
    "    while True:\n",
    "        try:\n",
    "            escolha = int(input('Indique que operação você gostaria de realizar \\n'))\n",
    "        except:\n",
    "            print('Você não digitou um número corretamente')\n",
    "            continue\n",
    "        else:\n",
    "            if escolha > 4 or escolha <=0:\n",
    "                print('Operação não cadastrada')\n",
    "                print(escolhadaoperacao())\n",
    "                continue    \n",
    "            else:\n",
    "                print('Obrigado por indicar uma operação')\n",
    "                break\n",
    "            break\n",
    "        finally:\n",
    "            print('Obrigado!\\n')\n",
    "            print(primeironumero())\n",
    "    return escolha\n",
    "            \n",
    "def primeironumero():\n",
    "    while True:\n",
    "        try:\n",
    "            num1 = float(input ('Indique o primeiro número da operação que você gostaria de realizar \\n'))\n",
    "        except:\n",
    "            print(\"Você não digitou um número corretamente\")\n",
    "            continue\n",
    "        else:\n",
    "            print('Obrigado por digitar um número')\n",
    "            break\n",
    "        finally:\n",
    "            print (\"Obrigado!\")\n",
    "            print (segundonumero())\n",
    "    return num1\n",
    "    \n",
    "def segundonumero():\n",
    "    while True:\n",
    "        try:\n",
    "            num2 = float(input ('Indique o sgundo número da operação que você gostaria de realizar \\n'))\n",
    "        except:\n",
    "            print(\"Você não digitou um número corretamente\")\n",
    "            continue\n",
    "        else:\n",
    "            print('Obrigado por digitar um número')\n",
    "            break\n",
    "        finally:\n",
    "            print (\"Obrigado!\")\n",
    "            print (conta())\n",
    "        return num2\n",
    "\n",
    "def conta():\n",
    "    if  escolha == 1:\n",
    "        print(\"Operação \", num1 ,\" + \", num2, \" = \", adicao(num1,num2))\n",
    "    elif escolha == 2:\n",
    "        print(\"Operação \", num1 ,\" - \", num2, \" = \", subtracao(num1,num2))\n",
    "    elif escolha == 3:\n",
    "        print(\"Operação \", num1 ,\" / \", num2, \" = \", divisao(num1,num2))\n",
    "    elif escolha == 4:\n",
    "        print(\"Operação \", num1 ,\" * \", num2, \" = \", multiplicacao(num1,num2))\n",
    "    else:\n",
    "        print(\"Opção incorreta!\")\n"
   ]
  },
  {
   "cell_type": "code",
   "execution_count": 56,
   "metadata": {},
   "outputs": [
    {
     "name": "stdout",
     "output_type": "stream",
     "text": [
      "1 - Soma \n",
      "2 - Subtração \n",
      "3 - Divisão \n",
      "4 - Multiplicação\n",
      "Indique que operação você gostaria de realizar \n",
      "1\n",
      "Obrigado por indicar uma operação\n",
      "Obrigado!\n",
      "\n",
      "Indique o primeiro número da operação que você gostaria de realizar \n",
      "1\n",
      "Obrigado por digitar um número\n",
      "Obrigado!\n",
      "Indique o sgundo número da operação que você gostaria de realizar \n",
      "2\n",
      "Obrigado por digitar um número\n",
      "Obrigado!\n"
     ]
    },
    {
     "ename": "NameError",
     "evalue": "name 'escolha' is not defined",
     "output_type": "error",
     "traceback": [
      "\u001b[1;31m---------------------------------------------------------------------------\u001b[0m",
      "\u001b[1;31mNameError\u001b[0m                                 Traceback (most recent call last)",
      "\u001b[1;32m<ipython-input-56-3421cf1060a0>\u001b[0m in \u001b[0;36m<module>\u001b[1;34m\u001b[0m\n\u001b[0;32m      1\u001b[0m \u001b[1;31m#######################Python Calculator##########################)\u001b[0m\u001b[1;33m\u001b[0m\u001b[1;33m\u001b[0m\u001b[1;33m\u001b[0m\u001b[0m\n\u001b[0;32m      2\u001b[0m \u001b[0mprint\u001b[0m\u001b[1;33m(\u001b[0m\u001b[1;34m\"1 - Soma \\n2 - Subtração \\n3 - Divisão \\n4 - Multiplicação\"\u001b[0m\u001b[1;33m)\u001b[0m\u001b[1;33m\u001b[0m\u001b[1;33m\u001b[0m\u001b[0m\n\u001b[1;32m----> 3\u001b[1;33m \u001b[0mescolhadaoperacao\u001b[0m\u001b[1;33m(\u001b[0m\u001b[1;33m)\u001b[0m\u001b[1;33m\u001b[0m\u001b[1;33m\u001b[0m\u001b[0m\n\u001b[0m",
      "\u001b[1;32m<ipython-input-55-9a099a902a59>\u001b[0m in \u001b[0;36mescolhadaoperacao\u001b[1;34m()\u001b[0m\n\u001b[0;32m     29\u001b[0m         \u001b[1;32mfinally\u001b[0m\u001b[1;33m:\u001b[0m\u001b[1;33m\u001b[0m\u001b[1;33m\u001b[0m\u001b[0m\n\u001b[0;32m     30\u001b[0m             \u001b[0mprint\u001b[0m\u001b[1;33m(\u001b[0m\u001b[1;34m'Obrigado!\\n'\u001b[0m\u001b[1;33m)\u001b[0m\u001b[1;33m\u001b[0m\u001b[1;33m\u001b[0m\u001b[0m\n\u001b[1;32m---> 31\u001b[1;33m             \u001b[0mprint\u001b[0m\u001b[1;33m(\u001b[0m\u001b[0mprimeironumero\u001b[0m\u001b[1;33m(\u001b[0m\u001b[1;33m)\u001b[0m\u001b[1;33m)\u001b[0m\u001b[1;33m\u001b[0m\u001b[1;33m\u001b[0m\u001b[0m\n\u001b[0m\u001b[0;32m     32\u001b[0m     \u001b[1;32mreturn\u001b[0m \u001b[0mescolha\u001b[0m\u001b[1;33m\u001b[0m\u001b[1;33m\u001b[0m\u001b[0m\n\u001b[0;32m     33\u001b[0m \u001b[1;33m\u001b[0m\u001b[0m\n",
      "\u001b[1;32m<ipython-input-55-9a099a902a59>\u001b[0m in \u001b[0;36mprimeironumero\u001b[1;34m()\u001b[0m\n\u001b[0;32m     44\u001b[0m         \u001b[1;32mfinally\u001b[0m\u001b[1;33m:\u001b[0m\u001b[1;33m\u001b[0m\u001b[1;33m\u001b[0m\u001b[0m\n\u001b[0;32m     45\u001b[0m             \u001b[0mprint\u001b[0m \u001b[1;33m(\u001b[0m\u001b[1;34m\"Obrigado!\"\u001b[0m\u001b[1;33m)\u001b[0m\u001b[1;33m\u001b[0m\u001b[1;33m\u001b[0m\u001b[0m\n\u001b[1;32m---> 46\u001b[1;33m             \u001b[0mprint\u001b[0m \u001b[1;33m(\u001b[0m\u001b[0msegundonumero\u001b[0m\u001b[1;33m(\u001b[0m\u001b[1;33m)\u001b[0m\u001b[1;33m)\u001b[0m\u001b[1;33m\u001b[0m\u001b[1;33m\u001b[0m\u001b[0m\n\u001b[0m\u001b[0;32m     47\u001b[0m     \u001b[1;32mreturn\u001b[0m \u001b[0mnum1\u001b[0m\u001b[1;33m\u001b[0m\u001b[1;33m\u001b[0m\u001b[0m\n\u001b[0;32m     48\u001b[0m \u001b[1;33m\u001b[0m\u001b[0m\n",
      "\u001b[1;32m<ipython-input-55-9a099a902a59>\u001b[0m in \u001b[0;36msegundonumero\u001b[1;34m()\u001b[0m\n\u001b[0;32m     59\u001b[0m         \u001b[1;32mfinally\u001b[0m\u001b[1;33m:\u001b[0m\u001b[1;33m\u001b[0m\u001b[1;33m\u001b[0m\u001b[0m\n\u001b[0;32m     60\u001b[0m             \u001b[0mprint\u001b[0m \u001b[1;33m(\u001b[0m\u001b[1;34m\"Obrigado!\"\u001b[0m\u001b[1;33m)\u001b[0m\u001b[1;33m\u001b[0m\u001b[1;33m\u001b[0m\u001b[0m\n\u001b[1;32m---> 61\u001b[1;33m             \u001b[0mprint\u001b[0m \u001b[1;33m(\u001b[0m\u001b[0mconta\u001b[0m\u001b[1;33m(\u001b[0m\u001b[1;33m)\u001b[0m\u001b[1;33m)\u001b[0m\u001b[1;33m\u001b[0m\u001b[1;33m\u001b[0m\u001b[0m\n\u001b[0m\u001b[0;32m     62\u001b[0m         \u001b[1;32mreturn\u001b[0m \u001b[0mnum2\u001b[0m\u001b[1;33m\u001b[0m\u001b[1;33m\u001b[0m\u001b[0m\n\u001b[0;32m     63\u001b[0m \u001b[1;33m\u001b[0m\u001b[0m\n",
      "\u001b[1;32m<ipython-input-55-9a099a902a59>\u001b[0m in \u001b[0;36mconta\u001b[1;34m()\u001b[0m\n\u001b[0;32m     63\u001b[0m \u001b[1;33m\u001b[0m\u001b[0m\n\u001b[0;32m     64\u001b[0m \u001b[1;32mdef\u001b[0m \u001b[0mconta\u001b[0m\u001b[1;33m(\u001b[0m\u001b[1;33m)\u001b[0m\u001b[1;33m:\u001b[0m\u001b[1;33m\u001b[0m\u001b[1;33m\u001b[0m\u001b[0m\n\u001b[1;32m---> 65\u001b[1;33m     \u001b[1;32mif\u001b[0m  \u001b[0mescolha\u001b[0m \u001b[1;33m==\u001b[0m \u001b[1;36m1\u001b[0m\u001b[1;33m:\u001b[0m\u001b[1;33m\u001b[0m\u001b[1;33m\u001b[0m\u001b[0m\n\u001b[0m\u001b[0;32m     66\u001b[0m         \u001b[0mprint\u001b[0m\u001b[1;33m(\u001b[0m\u001b[1;34m\"Operação \"\u001b[0m\u001b[1;33m,\u001b[0m \u001b[0mnum1\u001b[0m \u001b[1;33m,\u001b[0m\u001b[1;34m\" + \"\u001b[0m\u001b[1;33m,\u001b[0m \u001b[0mnum2\u001b[0m\u001b[1;33m,\u001b[0m \u001b[1;34m\" = \"\u001b[0m\u001b[1;33m,\u001b[0m \u001b[0madicao\u001b[0m\u001b[1;33m(\u001b[0m\u001b[0mnum1\u001b[0m\u001b[1;33m,\u001b[0m\u001b[0mnum2\u001b[0m\u001b[1;33m)\u001b[0m\u001b[1;33m)\u001b[0m\u001b[1;33m\u001b[0m\u001b[1;33m\u001b[0m\u001b[0m\n\u001b[0;32m     67\u001b[0m     \u001b[1;32melif\u001b[0m \u001b[0mescolha\u001b[0m \u001b[1;33m==\u001b[0m \u001b[1;36m2\u001b[0m\u001b[1;33m:\u001b[0m\u001b[1;33m\u001b[0m\u001b[1;33m\u001b[0m\u001b[0m\n",
      "\u001b[1;31mNameError\u001b[0m: name 'escolha' is not defined"
     ]
    }
   ],
   "source": [
    "#######################Python Calculator##########################)\n",
    "print(\"1 - Soma \\n2 - Subtração \\n3 - Divisão \\n4 - Multiplicação\")\n",
    "escolhadaoperacao()"
   ]
  },
  {
   "cell_type": "code",
   "execution_count": 33,
   "metadata": {},
   "outputs": [
    {
     "name": "stdout",
     "output_type": "stream",
     "text": [
      "Indique o primeiro número da operação que você gostaria de realizar \n",
      "2\n",
      "Obrigado por digitar um número\n",
      "Obrigado!\n"
     ]
    },
    {
     "data": {
      "text/plain": [
       "2.0"
      ]
     },
     "execution_count": 33,
     "metadata": {},
     "output_type": "execute_result"
    }
   ],
   "source": [
    "primeironumero()"
   ]
  },
  {
   "cell_type": "code",
   "execution_count": 34,
   "metadata": {},
   "outputs": [
    {
     "name": "stdout",
     "output_type": "stream",
     "text": [
      "Indique o sgundo número da operação que você gostaria de realizar \n",
      "4\n",
      "Obrigado por digitar um número\n",
      "Obrigado!\n"
     ]
    },
    {
     "data": {
      "text/plain": [
       "4.0"
      ]
     },
     "execution_count": 34,
     "metadata": {},
     "output_type": "execute_result"
    }
   ],
   "source": [
    "segundonumero()"
   ]
  },
  {
   "cell_type": "code",
   "execution_count": 40,
   "metadata": {},
   "outputs": [
    {
     "ename": "NameError",
     "evalue": "name 'escolha' is not defined",
     "output_type": "error",
     "traceback": [
      "\u001b[1;31m---------------------------------------------------------------------------\u001b[0m",
      "\u001b[1;31mNameError\u001b[0m                                 Traceback (most recent call last)",
      "\u001b[1;32m<ipython-input-40-03589832c1be>\u001b[0m in \u001b[0;36m<module>\u001b[1;34m\u001b[0m\n\u001b[1;32m----> 1\u001b[1;33m \u001b[1;32mif\u001b[0m  \u001b[0mescolha\u001b[0m \u001b[1;33m==\u001b[0m \u001b[1;36m1\u001b[0m\u001b[1;33m:\u001b[0m\u001b[1;33m\u001b[0m\u001b[1;33m\u001b[0m\u001b[0m\n\u001b[0m\u001b[0;32m      2\u001b[0m     \u001b[0mprint\u001b[0m\u001b[1;33m(\u001b[0m\u001b[1;34m\"Operação \"\u001b[0m\u001b[1;33m,\u001b[0m \u001b[0mnum1\u001b[0m \u001b[1;33m,\u001b[0m\u001b[1;34m\" + \"\u001b[0m\u001b[1;33m,\u001b[0m \u001b[0mnum2\u001b[0m\u001b[1;33m,\u001b[0m \u001b[1;34m\" = \"\u001b[0m\u001b[1;33m,\u001b[0m \u001b[0madicao\u001b[0m\u001b[1;33m(\u001b[0m\u001b[0mnum1\u001b[0m\u001b[1;33m,\u001b[0m\u001b[0mnum2\u001b[0m\u001b[1;33m)\u001b[0m\u001b[1;33m)\u001b[0m\u001b[1;33m\u001b[0m\u001b[1;33m\u001b[0m\u001b[0m\n\u001b[0;32m      3\u001b[0m \u001b[1;32melif\u001b[0m \u001b[0mescolha\u001b[0m \u001b[1;33m==\u001b[0m \u001b[1;36m2\u001b[0m\u001b[1;33m:\u001b[0m\u001b[1;33m\u001b[0m\u001b[1;33m\u001b[0m\u001b[0m\n\u001b[0;32m      4\u001b[0m     \u001b[0mprint\u001b[0m\u001b[1;33m(\u001b[0m\u001b[1;34m\"Operação \"\u001b[0m\u001b[1;33m,\u001b[0m \u001b[0mnum1\u001b[0m \u001b[1;33m,\u001b[0m\u001b[1;34m\" - \"\u001b[0m\u001b[1;33m,\u001b[0m \u001b[0mnum2\u001b[0m\u001b[1;33m,\u001b[0m \u001b[1;34m\" = \"\u001b[0m\u001b[1;33m,\u001b[0m \u001b[0msubtracao\u001b[0m\u001b[1;33m(\u001b[0m\u001b[0mnum1\u001b[0m\u001b[1;33m,\u001b[0m\u001b[0mnum2\u001b[0m\u001b[1;33m)\u001b[0m\u001b[1;33m)\u001b[0m\u001b[1;33m\u001b[0m\u001b[1;33m\u001b[0m\u001b[0m\n\u001b[0;32m      5\u001b[0m \u001b[1;32melif\u001b[0m \u001b[0mescolha\u001b[0m \u001b[1;33m==\u001b[0m \u001b[1;36m3\u001b[0m\u001b[1;33m:\u001b[0m\u001b[1;33m\u001b[0m\u001b[1;33m\u001b[0m\u001b[0m\n",
      "\u001b[1;31mNameError\u001b[0m: name 'escolha' is not defined"
     ]
    }
   ],
   "source": [
    "if  escolha == 1:\n",
    "    print(\"Operação \", num1 ,\" + \", num2, \" = \", adicao(num1,num2))\n",
    "elif escolha == 2:\n",
    "    print(\"Operação \", num1 ,\" - \", num2, \" = \", subtracao(num1,num2))\n",
    "elif escolha == 3:\n",
    "    print(\"Operação \", num1 ,\" / \", num2, \" = \", divisao(num1,num2))\n",
    "elif escolha == 4:\n",
    "    print(\"Operação \", num1 ,\" * \", num2, \" = \", multiplicacao(num1,num2))\n",
    "else:\n",
    "    print(\"Opção incorreta!\")"
   ]
  },
  {
   "cell_type": "code",
   "execution_count": 14,
   "metadata": {},
   "outputs": [
    {
     "ename": "NameError",
     "evalue": "name 'view' is not defined",
     "output_type": "error",
     "traceback": [
      "\u001b[1;31m---------------------------------------------------------------------------\u001b[0m",
      "\u001b[1;31mNameError\u001b[0m                                 Traceback (most recent call last)",
      "\u001b[1;32m<ipython-input-14-64cf92a768cf>\u001b[0m in \u001b[0;36m<module>\u001b[1;34m\u001b[0m\n\u001b[1;32m----> 1\u001b[1;33m \u001b[0mview\u001b[0m\u001b[1;33m(\u001b[0m\u001b[0mnum1\u001b[0m\u001b[1;33m)\u001b[0m\u001b[1;33m\u001b[0m\u001b[1;33m\u001b[0m\u001b[0m\n\u001b[0m",
      "\u001b[1;31mNameError\u001b[0m: name 'view' is not defined"
     ]
    }
   ],
   "source": []
  }
 ],
 "metadata": {
  "kernelspec": {
   "display_name": "Python 3",
   "language": "python",
   "name": "python3"
  },
  "language_info": {
   "codemirror_mode": {
    "name": "ipython",
    "version": 3
   },
   "file_extension": ".py",
   "mimetype": "text/x-python",
   "name": "python",
   "nbconvert_exporter": "python",
   "pygments_lexer": "ipython3",
   "version": "3.7.6"
  }
 },
 "nbformat": 4,
 "nbformat_minor": 4
}
