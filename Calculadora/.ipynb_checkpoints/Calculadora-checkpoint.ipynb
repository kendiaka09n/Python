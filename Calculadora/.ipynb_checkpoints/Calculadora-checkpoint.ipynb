{
 "cells": [
  {
   "cell_type": "markdown",
   "metadata": {},
   "source": [
    "# Calculadora"
   ]
  },
  {
   "cell_type": "markdown",
   "metadata": {},
   "source": [
    "Purpose of this project is the creation of a simple calculator using python code."
   ]
  },
  {
   "cell_type": "code",
   "execution_count": 1,
   "metadata": {},
   "outputs": [],
   "source": [
    "def adicao(x,y):\n",
    "    return x+y\n",
    "\n",
    "def subtracao(x,y):\n",
    "    return x-y\n",
    "\n",
    "def multiplicacao(x,y):\n",
    "    return x*y\n",
    "\n",
    "def divisao(x,y):\n",
    "    return x/y"
   ]
  },
  {
   "cell_type": "code",
   "execution_count": 2,
   "metadata": {},
   "outputs": [
    {
     "name": "stdout",
     "output_type": "stream",
     "text": [
      "1 - Soma \n",
      "2 - Subtração \n",
      "3 - Divisão \n",
      "4 - Multiplicação\n"
     ]
    }
   ],
   "source": [
    "#######################Python Calculator##########################)\n",
    "print(\"1 - Soma \\n2 - Subtração \\n3 - Divisão \\n4 - Multiplicação\")"
   ]
  },
  {
   "cell_type": "code",
   "execution_count": 3,
   "metadata": {},
   "outputs": [
    {
     "name": "stdout",
     "output_type": "stream",
     "text": [
      "Indique que operação você gostaria de realizar \n",
      "2\n"
     ]
    }
   ],
   "source": [
    "escolha = int(input ('Indique que operação você gostaria de realizar \\n'))"
   ]
  },
  {
   "cell_type": "code",
   "execution_count": 5,
   "metadata": {
    "scrolled": true
   },
   "outputs": [
    {
     "name": "stdout",
     "output_type": "stream",
     "text": [
      "Insira o segundo número da calculadora \n",
      "5\n"
     ]
    }
   ],
   "source": [
    "num2 = int(input('Insira o segundo número da calculadora \\n'))"
   ]
  },
  {
   "cell_type": "code",
   "execution_count": 7,
   "metadata": {},
   "outputs": [
    {
     "name": "stdout",
     "output_type": "stream",
     "text": [
      "Operação  2  -  5  =  -3\n"
     ]
    }
   ],
   "source": [
    "if  escolha == 1:\n",
    "    print(\"Operação \", num1 ,\" + \", num2, \" = \", adicao(num1,num2))\n",
    "elif escolha == 2:\n",
    "    print(\"Operação \", num1 ,\" - \", num2, \" = \", subtracao(num1,num2))\n",
    "elif escolha == 3:\n",
    "    print(\"Operação \", num1 ,\" / \", num2, \" = \", divisao(num1,num2))\n",
    "elif escolha == 4:\n",
    "    print(\"Operação \", num1 ,\" * \", num2, \" = \", multiplicacao(num1,num2))\n",
    "else:\n",
    "    print(\"Opção incorreta!\")"
   ]
  }
 ],
 "metadata": {
  "kernelspec": {
   "display_name": "Python 3",
   "language": "python",
   "name": "python3"
  },
  "language_info": {
   "codemirror_mode": {
    "name": "ipython",
    "version": 3
   },
   "file_extension": ".py",
   "mimetype": "text/x-python",
   "name": "python",
   "nbconvert_exporter": "python",
   "pygments_lexer": "ipython3",
   "version": "3.7.6"
  }
 },
 "nbformat": 4,
 "nbformat_minor": 4
}
