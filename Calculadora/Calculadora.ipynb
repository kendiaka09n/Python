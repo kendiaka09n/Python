{
 "cells": [
  {
   "cell_type": "markdown",
   "metadata": {},
   "source": [
    "# Calculadora"
   ]
  },
  {
   "cell_type": "markdown",
   "metadata": {},
   "source": [
    "Purpose of this project is the creation of a simple calculator using python code."
   ]
  },
  {
   "cell_type": "code",
   "execution_count": 2,
   "metadata": {},
   "outputs": [
    {
     "name": "stdout",
     "output_type": "stream",
     "text": [
      "1 - Soma \n",
      "2 - Subtração \n",
      "3 - Divisão \n",
      "4 - Multiplicação\n"
     ]
    }
   ],
   "source": [
    "#######################Python Calculator##########################)\n",
    "print(\"1 - Soma \\n2 - Subtração \\n3 - Divisão \\n4 - Multiplicação\")"
   ]
  },
  {
   "cell_type": "code",
   "execution_count": 3,
   "metadata": {},
   "outputs": [
    {
     "name": "stdout",
     "output_type": "stream",
     "text": [
      "Indique que operação você gostaria de realizar \n",
      "2\n"
     ]
    }
   ],
   "source": [
    "a = int(input ('Indique que operação você gostaria de realizar \\n'))"
   ]
  },
  {
   "cell_type": "code",
   "execution_count": 4,
   "metadata": {},
   "outputs": [
    {
     "name": "stdout",
     "output_type": "stream",
     "text": [
      "Insira o primeiro número na calculadora \n",
      "2\n"
     ]
    }
   ],
   "source": [
    "b = int(input('Insira o primeiro número na calculadora \\n'))"
   ]
  },
  {
   "cell_type": "code",
   "execution_count": 5,
   "metadata": {},
   "outputs": [
    {
     "name": "stdout",
     "output_type": "stream",
     "text": [
      "Insira o segundo número da calculadora \n",
      "6\n"
     ]
    }
   ],
   "source": [
    "c = int(input('Insira o segundo número da calculadora \\n'))"
   ]
  },
  {
   "cell_type": "code",
   "execution_count": 8,
   "metadata": {},
   "outputs": [
    {
     "name": "stdout",
     "output_type": "stream",
     "text": [
      "Resultado: \n",
      " -4\n"
     ]
    }
   ],
   "source": [
    "if  a == 1:\n",
    "    print(\"Resultado: \\n\", b+c)\n",
    "elif a == 2:\n",
    "    print(\"Resultado: \\n\", b-c)\n",
    "elif a == 3:\n",
    "    print(\"Resultado: \\n\", b/c)\n",
    "elif a == 4:\n",
    "    print(\"Resultado: \\n\", b*c)"
   ]
  },
  {
   "cell_type": "code",
   "execution_count": null,
   "metadata": {
    "scrolled": true
   },
   "outputs": [
    {
     "name": "stdout",
     "output_type": "stream",
     "text": [
      "This is a simple calculator. It`s only capable of doing one operation per time\n"
     ]
    }
   ],
   "source": []
  }
 ],
 "metadata": {
  "kernelspec": {
   "display_name": "Python 3",
   "language": "python",
   "name": "python3"
  },
  "language_info": {
   "codemirror_mode": {
    "name": "ipython",
    "version": 3
   },
   "file_extension": ".py",
   "mimetype": "text/x-python",
   "name": "python",
   "nbconvert_exporter": "python",
   "pygments_lexer": "ipython3",
   "version": "3.7.6"
  }
 },
 "nbformat": 4,
 "nbformat_minor": 4
}
