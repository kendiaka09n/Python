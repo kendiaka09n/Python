{
 "cells": [
  {
   "cell_type": "code",
   "execution_count": 1,
   "metadata": {},
   "outputs": [
    {
     "name": "stdout",
     "output_type": "stream",
     "text": [
      "A literal string\n",
      "on more than one line\n",
      "sometimes known as a verbatim string\n",
      "Another literal string\n",
      "     on more than one line\n",
      "using double quotes\n"
     ]
    }
   ],
   "source": [
    "tenth_string = '''A literal string\n",
    "on more than one line\n",
    "sometimes known as a verbatim string'''\n",
    "\n",
    "eleventh_string = \"\"\"Another literal string\n",
    "     on more than one line\n",
    "using double quotes\"\"\"\n",
    "\n",
    "print(tenth_string)\n",
    "print(eleventh_string)"
   ]
  },
  {
   "cell_type": "code",
   "execution_count": 4,
   "metadata": {},
   "outputs": [
    {
     "name": "stdout",
     "output_type": "stream",
     "text": [
      "Conrad Grant\n",
      "Conrad Grant Bob\n",
      "Conrad-Grant-Bob\n",
      "Conrad-Grant-Bob."
     ]
    }
   ],
   "source": [
    "first = 'Conrad'\n",
    "second = 'Grant'\n",
    "third = 'Bob'\n",
    "print(first, second)\n",
    "print(first, second, third)\n",
    "print(first, second, third, sep='-')\n",
    "print(first, second, third, sep='-', end='.')"
   ]
  },
  {
   "cell_type": "code",
   "execution_count": 5,
   "metadata": {},
   "outputs": [
    {
     "name": "stdout",
     "output_type": "stream",
     "text": [
      "Coughussin - Take 5 ML by mouth every 4.5 hours\n",
      "4.5 - Take 5 ML by mouth every Coughussin hours\n",
      "Sneezergen - Take 10 ML by mouth every 6 hours\n"
     ]
    }
   ],
   "source": [
    "medicine = 'Coughussin'\n",
    "dosage = 5\n",
    "duration = 4.5\n",
    "\n",
    "instructions = '{} - Take {} ML by mouth every {} hours'.format(medicine, dosage, duration)\n",
    "print(instructions)\n",
    "\n",
    "instructions = '{2} - Take {1} ML by mouth every {0} hours'.format(medicine, dosage, duration)\n",
    "print(instructions)\n",
    "\n",
    "instructions = '{medicine} - Take {dosage} ML by mouth every {duration} hours'.format(medicine = 'Sneezergen', dosage = 10, duration = 6)\n",
    "\n",
    "print(instructions)"
   ]
  },
  {
   "cell_type": "code",
   "execution_count": 1,
   "metadata": {},
   "outputs": [
    {
     "name": "stdout",
     "output_type": "stream",
     "text": [
      "Hello, World.\n",
      "Count to 10.  Multiply by 3.14.\n"
     ]
    }
   ],
   "source": [
    "name = 'World'\n",
    "message = f'Hello, {name}.'\n",
    "print(message)\n",
    "\n",
    "count = 10\n",
    "value = 3.14\n",
    "message = f'Count to {count}.  Multiply by {value}.'\n",
    "print(message)"
   ]
  },
  {
   "cell_type": "code",
   "execution_count": null,
   "metadata": {},
   "outputs": [],
   "source": []
  }
 ],
 "metadata": {
  "kernelspec": {
   "display_name": "Python 3",
   "language": "python",
   "name": "python3"
  },
  "language_info": {
   "codemirror_mode": {
    "name": "ipython",
    "version": 3
   },
   "file_extension": ".py",
   "mimetype": "text/x-python",
   "name": "python",
   "nbconvert_exporter": "python",
   "pygments_lexer": "ipython3",
   "version": "3.7.6"
  }
 },
 "nbformat": 4,
 "nbformat_minor": 4
}
